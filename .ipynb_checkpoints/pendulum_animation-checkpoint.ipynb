{
 "cells": [
  {
   "cell_type": "markdown",
   "metadata": {},
   "source": [
    "# Jupyter Tutorial for Using MatPlotLib to Animate the Nth-Order Pendulum"
   ]
  },
  {
   "cell_type": "code",
   "execution_count": 3,
   "metadata": {},
   "outputs": [],
   "source": [
    "import numpy as np\n",
    "import matplotlib.pyplot as plt\n",
    "from matplotlib import animation"
   ]
  },
  {
   "cell_type": "code",
   "execution_count": 16,
   "metadata": {},
   "outputs": [],
   "source": [
    "def animate_pendulum(time_states, position_states, length_states, to_save=False):\n",
    "    \"\"\" Global function to create Nth-order pendulum animation. \"\"\"\n",
    "    number_of_points = (position_states.shape[1] / 2) + 1\n",
    "    \n",
    "    fig = plt.figure()\n",
    "    ax = plt.axes(xlim=(-0.5, 0.5), ylim=(-1.05, 0.05), aspect=\"equal\")\n",
    "    line, = ax.plot(list(), list(), lw=2, marker=\"o\", markersize=12)\n",
    "    \n",
    "    def _init_():\n",
    "        line.set_data(list(), list())\n",
    "        return line,\n",
    "    \n",
    "    def animate_(iterator):\n",
    "        x, y = np.zeros((number_of_points)), np.zeros((number_of_points))\n",
    "        for jterator in np.arange(1, number_of_points):\n",
    "            x[jterator] = x[jterator - 1] + length_states * np.sin(position_states[iterator, jterator])\n",
    "            y[jterator] = y[jterator - 1] - length_states * np.cos(position_states[iterator, jterator])\n",
    "        line.set_data(x, y)\n",
    "        return line,\n",
    "    \n",
    "    anim = animation.FuncAnimation(fig, animate_, frames=len(time_states), init_func=_init_, \n",
    "                                   interval=time_states[-1] / len(time_states) * 1000, \n",
    "                                   blit=True, repeat=True)\n",
    "    \n",
    "    \"\"\"\n",
    "    if to_save == True:\n",
    "        anim.save(\"pendulum_animation.mp4\", fps=30)\n",
    "    \"\"\"\n",
    "    plt.show()"
   ]
  },
  {
   "cell_type": "code",
   "execution_count": null,
   "metadata": {},
   "outputs": [],
   "source": []
  }
 ],
 "metadata": {
  "kernelspec": {
   "display_name": "Python 3",
   "language": "python",
   "name": "python3"
  },
  "language_info": {
   "codemirror_mode": {
    "name": "ipython",
    "version": 3
   },
   "file_extension": ".py",
   "mimetype": "text/x-python",
   "name": "python",
   "nbconvert_exporter": "python",
   "pygments_lexer": "ipython3",
   "version": "3.6.3"
  }
 },
 "nbformat": 4,
 "nbformat_minor": 2
}
